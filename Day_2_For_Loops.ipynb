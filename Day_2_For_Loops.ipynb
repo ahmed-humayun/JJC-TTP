{
  "nbformat": 4,
  "nbformat_minor": 0,
  "metadata": {
    "colab": {
      "name": "Day 2 For Loops.ipynb",
      "provenance": [],
      "collapsed_sections": [],
      "authorship_tag": "ABX9TyPDxj7XH2W7Fzkg7Ww50YA2",
      "include_colab_link": true
    },
    "kernelspec": {
      "name": "python3",
      "display_name": "Python 3"
    },
    "language_info": {
      "name": "python"
    }
  },
  "cells": [
    {
      "cell_type": "markdown",
      "metadata": {
        "id": "view-in-github",
        "colab_type": "text"
      },
      "source": [
        "<a href=\"https://colab.research.google.com/github/ahmed-humayun/JJC-TTP/blob/main/Day_2_For_Loops.ipynb\" target=\"_parent\"><img src=\"https://colab.research.google.com/assets/colab-badge.svg\" alt=\"Open In Colab\"/></a>"
      ]
    },
    {
      "cell_type": "markdown",
      "source": [
        "##For Loops"
      ],
      "metadata": {
        "id": "ziLzipdgQpgK"
      }
    },
    {
      "cell_type": "code",
      "source": [
        "l = [1,2,3,4,5,6,7,8,9,10]"
      ],
      "metadata": {
        "id": "bZrlzrfvQzCs"
      },
      "execution_count": null,
      "outputs": []
    },
    {
      "cell_type": "code",
      "source": [
        "for i in l:\n",
        "  print(i)"
      ],
      "metadata": {
        "colab": {
          "base_uri": "https://localhost:8080/"
        },
        "id": "zA9yIYdBRMgj",
        "outputId": "dea579be-d2ba-41fd-b9a3-15a7bc1fe3c1"
      },
      "execution_count": null,
      "outputs": [
        {
          "output_type": "stream",
          "name": "stdout",
          "text": [
            "1\n",
            "2\n",
            "3\n",
            "4\n",
            "5\n",
            "6\n",
            "7\n",
            "8\n",
            "9\n",
            "10\n"
          ]
        }
      ]
    },
    {
      "cell_type": "code",
      "source": [
        "17%5"
      ],
      "metadata": {
        "colab": {
          "base_uri": "https://localhost:8080/"
        },
        "id": "W2JBRKwFRaWJ",
        "outputId": "a41a828f-8091-43bb-ad20-ca2ef37a2049"
      },
      "execution_count": null,
      "outputs": [
        {
          "output_type": "execute_result",
          "data": {
            "text/plain": [
              "2"
            ]
          },
          "metadata": {},
          "execution_count": 3
        }
      ]
    },
    {
      "cell_type": "code",
      "source": [
        "#print even numbers\n",
        "\n",
        "mlist = [1,22,34,43,52,632,733,800,923,1011,45,44,66]\n",
        "#in the previous line I created a list of numbers.\n",
        "\n",
        "for number in mlist:\n",
        "#in this line I created a for loop to iterate through my list of numbers\n",
        "\n",
        "  if number % 2 == 0:\n",
        "  #in this line I am using a conditional if-statement to determine if a number is even\n",
        "    print(number)\n",
        "    #in this line I am printing the iterator after the conditional statement has been executed."
      ],
      "metadata": {
        "colab": {
          "base_uri": "https://localhost:8080/"
        },
        "id": "gfxCJywdRvhZ",
        "outputId": "7b92d65a-943c-449b-de97-c78e5d6f54ca"
      },
      "execution_count": null,
      "outputs": [
        {
          "output_type": "stream",
          "name": "stdout",
          "text": [
            "22\n",
            "34\n",
            "52\n",
            "632\n",
            "800\n",
            "44\n",
            "66\n"
          ]
        }
      ]
    },
    {
      "cell_type": "code",
      "source": [
        "#print odd numbers\n",
        "\n",
        "mlist = [1,22,34,43,52,632,733,800,923,1011,45,44,66]\n",
        "#in the previous line I created a list of numbers.\n",
        "\n",
        "for number in mlist:\n",
        "#in this line I created a for loop to iterate through my list of numbers\n",
        "\n",
        "  if number % 2 == 1:\n",
        "  #in this line I am using a conditional if-statement to determine if a number is odd\n",
        "    print(number)\n",
        "    #in this line I am printing the iterator after the conditional statement has been executed.\n"
      ],
      "metadata": {
        "colab": {
          "base_uri": "https://localhost:8080/"
        },
        "id": "scmQgI26SnuV",
        "outputId": "aea81714-a6da-41ba-ecd0-0fc685c71f1c"
      },
      "execution_count": null,
      "outputs": [
        {
          "output_type": "stream",
          "name": "stdout",
          "text": [
            "1\n",
            "43\n",
            "733\n",
            "923\n",
            "1011\n",
            "45\n"
          ]
        }
      ]
    },
    {
      "cell_type": "code",
      "source": [
        "list_sum = 0\n",
        "\n",
        "for num in l:\n",
        "  list_sum = list_sum + num\n",
        "print(list_sum)"
      ],
      "metadata": {
        "colab": {
          "base_uri": "https://localhost:8080/"
        },
        "id": "j9dOnoSYT9VG",
        "outputId": "e5bf6432-cf87-4cc2-96e3-18ffc7a8ed87"
      },
      "execution_count": null,
      "outputs": [
        {
          "output_type": "stream",
          "name": "stdout",
          "text": [
            "55\n"
          ]
        }
      ]
    },
    {
      "cell_type": "code",
      "source": [
        "for letter in 'This is a string.':\n",
        "  print(letter)"
      ],
      "metadata": {
        "colab": {
          "base_uri": "https://localhost:8080/"
        },
        "id": "YItHAeZGWUGV",
        "outputId": "297725e4-018a-46df-f7be-88f4a4f2a158"
      },
      "execution_count": null,
      "outputs": [
        {
          "output_type": "stream",
          "name": "stdout",
          "text": [
            "T\n",
            "h\n",
            "i\n",
            "s\n",
            " \n",
            "i\n",
            "s\n",
            " \n",
            "a\n",
            " \n",
            "s\n",
            "t\n",
            "r\n",
            "i\n",
            "n\n",
            "g\n",
            ".\n"
          ]
        }
      ]
    },
    {
      "cell_type": "code",
      "source": [
        "l = [(2,4), (6,8), (10,12)]\n",
        "for tup in l:\n",
        "    print(tup)"
      ],
      "metadata": {
        "colab": {
          "base_uri": "https://localhost:8080/"
        },
        "id": "_CNBx2m-WZ7T",
        "outputId": "e9114cd3-61e5-4355-ecb4-b4480aa5b00c"
      },
      "execution_count": null,
      "outputs": [
        {
          "output_type": "stream",
          "name": "stdout",
          "text": [
            "(2, 4)\n",
            "(6, 8)\n",
            "(10, 12)\n"
          ]
        }
      ]
    },
    {
      "cell_type": "code",
      "source": [
        "for (t1,t2) in l:\n",
        "  print(t1)"
      ],
      "metadata": {
        "colab": {
          "base_uri": "https://localhost:8080/"
        },
        "id": "K6Pv1jGUWlnU",
        "outputId": "26072d88-7315-44e8-e29c-d783a1608009"
      },
      "execution_count": null,
      "outputs": [
        {
          "output_type": "stream",
          "name": "stdout",
          "text": [
            "2\n",
            "6\n",
            "10\n"
          ]
        }
      ]
    },
    {
      "cell_type": "code",
      "source": [
        "d = {'k1':1, 'k2':2, 'k3': 3}"
      ],
      "metadata": {
        "id": "PT_AIY-fWvUU"
      },
      "execution_count": null,
      "outputs": []
    },
    {
      "cell_type": "code",
      "source": [
        "for item in d:\n",
        "  print(item)"
      ],
      "metadata": {
        "colab": {
          "base_uri": "https://localhost:8080/"
        },
        "id": "jTPryhgjW-S4",
        "outputId": "c19e9211-87a2-4152-b1c1-f659ab3da5c0"
      },
      "execution_count": null,
      "outputs": [
        {
          "output_type": "stream",
          "name": "stdout",
          "text": [
            "k1\n",
            "k2\n",
            "k3\n"
          ]
        }
      ]
    },
    {
      "cell_type": "code",
      "source": [
        "for k,v in d.items():\n",
        "  print(k)\n",
        "  print(v)\n"
      ],
      "metadata": {
        "colab": {
          "base_uri": "https://localhost:8080/"
        },
        "id": "enbqSrrdXBHr",
        "outputId": "d117102e-2fb0-4f6d-c4ea-59cf2074962e"
      },
      "execution_count": null,
      "outputs": [
        {
          "output_type": "stream",
          "name": "stdout",
          "text": [
            "k1\n",
            "1\n",
            "k2\n",
            "2\n",
            "k3\n",
            "3\n"
          ]
        }
      ]
    },
    {
      "cell_type": "code",
      "source": [
        ""
      ],
      "metadata": {
        "id": "zrDwuIVuXDDo"
      },
      "execution_count": null,
      "outputs": []
    }
  ]
}