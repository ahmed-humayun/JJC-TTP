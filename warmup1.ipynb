{
  "nbformat": 4,
  "nbformat_minor": 0,
  "metadata": {
    "colab": {
      "name": "warmup1.ipynb",
      "provenance": [],
      "collapsed_sections": [],
      "authorship_tag": "ABX9TyOaZ2jRBIkIhIont8g/k0cR",
      "include_colab_link": true
    },
    "kernelspec": {
      "name": "python3",
      "display_name": "Python 3"
    },
    "language_info": {
      "name": "python"
    }
  },
  "cells": [
    {
      "cell_type": "markdown",
      "metadata": {
        "id": "view-in-github",
        "colab_type": "text"
      },
      "source": [
        "<a href=\"https://colab.research.google.com/github/ahmed-humayun/JJC-TTP/blob/main/warmup1.ipynb\" target=\"_parent\"><img src=\"https://colab.research.google.com/assets/colab-badge.svg\" alt=\"Open In Colab\"/></a>"
      ]
    },
    {
      "cell_type": "code",
      "execution_count": 57,
      "metadata": {
        "id": "qOPZVOQWekQj"
      },
      "outputs": [],
      "source": [
        "a = \"Hello World\"\n"
      ]
    },
    {
      "cell_type": "code",
      "source": [
        "print(a[2:5])"
      ],
      "metadata": {
        "colab": {
          "base_uri": "https://localhost:8080/"
        },
        "id": "ZVYf48cchsCR",
        "outputId": "448a4e4e-ebad-4005-ba31-19e66142dae1"
      },
      "execution_count": 58,
      "outputs": [
        {
          "output_type": "stream",
          "name": "stdout",
          "text": [
            "llo\n"
          ]
        }
      ]
    },
    {
      "cell_type": "code",
      "source": [
        "print(a[::-1])"
      ],
      "metadata": {
        "colab": {
          "base_uri": "https://localhost:8080/"
        },
        "id": "ejCDIagziCwZ",
        "outputId": "6653285a-80bc-4943-f86a-aef2256aeda5"
      },
      "execution_count": 10,
      "outputs": [
        {
          "output_type": "stream",
          "name": "stdout",
          "text": [
            "dlroW olleH\n"
          ]
        }
      ]
    },
    {
      "cell_type": "code",
      "source": [
        "input_text = input(\"Enter your name: \")\n",
        "print(input_text[::-1])\n",
        "print(f'Hello, {input_text}')"
      ],
      "metadata": {
        "colab": {
          "base_uri": "https://localhost:8080/"
        },
        "id": "LEg6ZYp9ixLH",
        "outputId": "2235977d-d19d-418e-fe7a-710a5ee9d4f8"
      },
      "execution_count": 15,
      "outputs": [
        {
          "output_type": "stream",
          "name": "stdout",
          "text": [
            "Enter your name: humayun\n",
            "nuyamuh\n",
            "Hello, humayun\n"
          ]
        }
      ]
    },
    {
      "cell_type": "code",
      "source": [
        "word = \"excited\"\n",
        "print(type(word))\n",
        "b = ['a', 'e', 'i', 'o', 'u']\n",
        "print(type(b))\n",
        "num = 10.67\n",
        "print(type(num))"
      ],
      "metadata": {
        "colab": {
          "base_uri": "https://localhost:8080/"
        },
        "id": "guiVlFhNjlUZ",
        "outputId": "6c697329-3038-453d-e39c-7d0afc2ba9f0"
      },
      "execution_count": 22,
      "outputs": [
        {
          "output_type": "stream",
          "name": "stdout",
          "text": [
            "<class 'str'>\n",
            "<class 'list'>\n",
            "<class 'float'>\n"
          ]
        }
      ]
    },
    {
      "cell_type": "code",
      "source": [
        "import math\n",
        "a = 10.5\n",
        "b = 25\n",
        "print(a + b)\n",
        "print(math.sqrt(b))\n",
        "print(math.sqrt(49))\n",
        "print(math.sqrt(125))\n",
        "print(math.sqrt(100))\n",
        "print(math.sqrt(49.25))\n",
        "print (49 // 3)\n",
        "print (100 // 6)\n",
        "print (48 // 9)\n",
        "print (22 // 7)\n",
        "print (11 // 2)\n",
        "\n"
      ],
      "metadata": {
        "colab": {
          "base_uri": "https://localhost:8080/"
        },
        "id": "L9-bdAuskm_P",
        "outputId": "3f2f8bc6-c045-4196-b978-73f658c80f27"
      },
      "execution_count": 29,
      "outputs": [
        {
          "output_type": "stream",
          "name": "stdout",
          "text": [
            "35.5\n",
            "5.0\n",
            "7.0\n",
            "11.180339887498949\n",
            "10.0\n",
            "7.0178344238090995\n",
            "16\n",
            "16\n",
            "5\n",
            "3\n",
            "5\n"
          ]
        }
      ]
    },
    {
      "cell_type": "code",
      "source": [
        "list_a = ['a', 'e', 'i' 'o', 'u']\n",
        "list_b = [1, 2, 3]\n",
        "combination = list_a + list_b\n",
        "print(combination)"
      ],
      "metadata": {
        "colab": {
          "base_uri": "https://localhost:8080/"
        },
        "id": "S4VTfIdWlqqd",
        "outputId": "7af88f1c-25b0-409a-9f49-8fedb0edef74"
      },
      "execution_count": 30,
      "outputs": [
        {
          "output_type": "stream",
          "name": "stdout",
          "text": [
            "['a', 'e', 'io', 'u', 1, 2, 3]\n"
          ]
        }
      ]
    },
    {
      "cell_type": "code",
      "source": [
        "cars = ('honda', 'toyota', 'tesla')\n",
        "more_cars = ('ford', 'BMW')\n",
        "combined = cars + more_cars\n",
        "print(combined)\n"
      ],
      "metadata": {
        "colab": {
          "base_uri": "https://localhost:8080/"
        },
        "id": "GLl8QW4JniVq",
        "outputId": "9951b49b-5788-422f-d8c0-7a36bcae774b"
      },
      "execution_count": 59,
      "outputs": [
        {
          "output_type": "stream",
          "name": "stdout",
          "text": [
            "('honda', 'toyota', 'tesla', 'ford', 'BMW')\n"
          ]
        }
      ]
    },
    {
      "cell_type": "code",
      "source": [
        "a = \"123\"\n",
        "b = int(a)\n",
        "print(b)\n",
        "c = float(a)\n",
        "print(c)\n",
        "d = str(b)\n",
        "print(d)\n",
        "num = 163.12\n",
        "num2 = int(num)\n",
        "print(num2)\n",
        "str2 = str(num)\n",
        "print(str2)\n"
      ],
      "metadata": {
        "colab": {
          "base_uri": "https://localhost:8080/"
        },
        "id": "SeynFu-jo6t_",
        "outputId": "6b6820cd-d29b-40ec-edff-477edb285457"
      },
      "execution_count": 39,
      "outputs": [
        {
          "output_type": "stream",
          "name": "stdout",
          "text": [
            "123\n",
            "123.0\n",
            "123\n",
            "163\n",
            "163.12\n"
          ]
        }
      ]
    },
    {
      "cell_type": "code",
      "source": [
        "str = 'hello'\n",
        "print(str.upper())"
      ],
      "metadata": {
        "colab": {
          "base_uri": "https://localhost:8080/"
        },
        "id": "JgQcxVIFoRuU",
        "outputId": "97e366b7-96bf-407d-d87b-518341efbf89"
      },
      "execution_count": 41,
      "outputs": [
        {
          "output_type": "stream",
          "name": "stdout",
          "text": [
            "HELLO\n"
          ]
        }
      ]
    },
    {
      "cell_type": "code",
      "source": [
        "str1 = \"hello world\"\n",
        "for x in str1:\n",
        "  print(x)"
      ],
      "metadata": {
        "colab": {
          "base_uri": "https://localhost:8080/"
        },
        "id": "X3fyAXSFqLVM",
        "outputId": "aab87ed9-ee62-4cfa-cef6-b448927912d2"
      },
      "execution_count": 52,
      "outputs": [
        {
          "output_type": "stream",
          "name": "stdout",
          "text": [
            "h\n",
            "e\n",
            "l\n",
            "l\n",
            "o\n",
            " \n",
            "w\n",
            "o\n",
            "r\n",
            "l\n",
            "d\n"
          ]
        }
      ]
    },
    {
      "cell_type": "code",
      "source": [
        "list_a = [\"gmail\", \"yahoo\", \"hotmail\"]\n",
        "for item in list_a:\n",
        "  print(item)\n",
        "\n",
        "print('\\n')\n",
        "print(list_a[1])"
      ],
      "metadata": {
        "colab": {
          "base_uri": "https://localhost:8080/"
        },
        "id": "eLWs5py8qvgj",
        "outputId": "230fde94-c673-4ccb-91cd-661b1c0e450f"
      },
      "execution_count": 55,
      "outputs": [
        {
          "output_type": "stream",
          "name": "stdout",
          "text": [
            "gmail\n",
            "yahoo\n",
            "hotmail\n",
            "\n",
            "\n",
            "yahoo\n"
          ]
        }
      ]
    },
    {
      "cell_type": "code",
      "source": [
        "import sys\n",
        "print(sys.version)\n",
        "\n"
      ],
      "metadata": {
        "colab": {
          "base_uri": "https://localhost:8080/"
        },
        "id": "-Fpa78uHroFg",
        "outputId": "dc932bab-2054-4323-a531-44f901dafc7e"
      },
      "execution_count": 50,
      "outputs": [
        {
          "output_type": "stream",
          "name": "stdout",
          "text": [
            "3.7.12 (default, Sep 10 2021, 00:21:48) \n",
            "[GCC 7.5.0]\n"
          ]
        }
      ]
    },
    {
      "cell_type": "code",
      "source": [
        ""
      ],
      "metadata": {
        "id": "A434G9xOsRQc"
      },
      "execution_count": null,
      "outputs": []
    }
  ]
}