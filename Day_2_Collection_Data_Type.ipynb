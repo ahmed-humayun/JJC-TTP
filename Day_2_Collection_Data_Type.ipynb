{
  "nbformat": 4,
  "nbformat_minor": 0,
  "metadata": {
    "colab": {
      "name": "Day 2 Collection Data Type.ipynb",
      "provenance": [],
      "collapsed_sections": [
        "pbt1kSBO01CP",
        "WiWdyLlK2N7I",
        "kYzZZ1bO4Qzu",
        "NkwXleMa6kDR",
        "2OMn0XlQ7qtM",
        "y52snvq5_xs5"
      ],
      "authorship_tag": "ABX9TyPPVsQiqCGSZ7hnlAb5ZEms",
      "include_colab_link": true
    },
    "kernelspec": {
      "name": "python3",
      "display_name": "Python 3"
    },
    "language_info": {
      "name": "python"
    }
  },
  "cells": [
    {
      "cell_type": "markdown",
      "metadata": {
        "id": "view-in-github",
        "colab_type": "text"
      },
      "source": [
        "<a href=\"https://colab.research.google.com/github/ahmed-humayun/JJC-TTP/blob/main/Day_2_Collection_Data_Type.ipynb\" target=\"_parent\"><img src=\"https://colab.research.google.com/assets/colab-badge.svg\" alt=\"Open In Colab\"/></a>"
      ]
    },
    {
      "cell_type": "markdown",
      "source": [
        "## Collection Data Type\n",
        "\n",
        "Lists, Dictionaries & Tuples\n",
        "\n",
        "#List"
      ],
      "metadata": {
        "id": "pbt1kSBO01CP"
      }
    },
    {
      "cell_type": "code",
      "source": [
        "#Assign a list to a variable named my_list\n",
        "my_list = [1,2,3]"
      ],
      "metadata": {
        "id": "OUCDIROO1R4I"
      },
      "execution_count": 80,
      "outputs": []
    },
    {
      "cell_type": "code",
      "source": [
        "my_list\n"
      ],
      "metadata": {
        "colab": {
          "base_uri": "https://localhost:8080/"
        },
        "id": "Y7RDFV7k1_gT",
        "outputId": "6317d80d-9bb1-4067-9187-09066b92d3a3"
      },
      "execution_count": 81,
      "outputs": [
        {
          "output_type": "execute_result",
          "data": {
            "text/plain": [
              "[1, 2, 3]"
            ]
          },
          "metadata": {},
          "execution_count": 81
        }
      ]
    },
    {
      "cell_type": "code",
      "source": [
        "my_list =[\"A string\", 23, 100.232, 'o']\n"
      ],
      "metadata": {
        "id": "UnyWdsB22Axp"
      },
      "execution_count": 82,
      "outputs": []
    },
    {
      "cell_type": "code",
      "source": [
        "my_list"
      ],
      "metadata": {
        "colab": {
          "base_uri": "https://localhost:8080/"
        },
        "id": "_fkE1_582J_Y",
        "outputId": "78c84a61-a628-4aa5-8679-017fcdf74869"
      },
      "execution_count": 83,
      "outputs": [
        {
          "output_type": "execute_result",
          "data": {
            "text/plain": [
              "['A string', 23, 100.232, 'o']"
            ]
          },
          "metadata": {},
          "execution_count": 83
        }
      ]
    },
    {
      "cell_type": "code",
      "source": [
        "len(my_list)"
      ],
      "metadata": {
        "colab": {
          "base_uri": "https://localhost:8080/"
        },
        "id": "DgdxxZD_2Lmi",
        "outputId": "1d7e60f6-3f5b-4d69-b003-d486dfdda8fc"
      },
      "execution_count": 84,
      "outputs": [
        {
          "output_type": "execute_result",
          "data": {
            "text/plain": [
              "4"
            ]
          },
          "metadata": {},
          "execution_count": 84
        }
      ]
    },
    {
      "cell_type": "markdown",
      "source": [
        "##Indexing and slicing"
      ],
      "metadata": {
        "id": "WiWdyLlK2N7I"
      }
    },
    {
      "cell_type": "code",
      "source": [
        "my_list = ['one', 'two', 'three']\n"
      ],
      "metadata": {
        "id": "ER4g_2em2Rds"
      },
      "execution_count": 85,
      "outputs": []
    },
    {
      "cell_type": "code",
      "source": [
        "my_list = ['one', 'two', 'three', 4, 5]\n",
        "my_list\n"
      ],
      "metadata": {
        "colab": {
          "base_uri": "https://localhost:8080/"
        },
        "id": "sWb6ZWYG3ghh",
        "outputId": "ba08671b-8d18-4ea9-ff99-b765096ffcd8"
      },
      "execution_count": 86,
      "outputs": [
        {
          "output_type": "execute_result",
          "data": {
            "text/plain": [
              "['one', 'two', 'three', 4, 5]"
            ]
          },
          "metadata": {},
          "execution_count": 86
        }
      ]
    },
    {
      "cell_type": "code",
      "source": [
        "my_list[0]"
      ],
      "metadata": {
        "colab": {
          "base_uri": "https://localhost:8080/",
          "height": 0
        },
        "id": "9Tbmj2Dr2bB3",
        "outputId": "71fe32a1-8104-49e5-b9d5-91e68bd22500"
      },
      "execution_count": 87,
      "outputs": [
        {
          "output_type": "execute_result",
          "data": {
            "application/vnd.google.colaboratory.intrinsic+json": {
              "type": "string"
            },
            "text/plain": [
              "'one'"
            ]
          },
          "metadata": {},
          "execution_count": 87
        }
      ]
    },
    {
      "cell_type": "code",
      "source": [
        "my_list[1:]"
      ],
      "metadata": {
        "colab": {
          "base_uri": "https://localhost:8080/"
        },
        "id": "AzUO_QNX26jy",
        "outputId": "67428ca3-7a22-4aa1-8520-1691da677f62"
      },
      "execution_count": 88,
      "outputs": [
        {
          "output_type": "execute_result",
          "data": {
            "text/plain": [
              "['two', 'three', 4, 5]"
            ]
          },
          "metadata": {},
          "execution_count": 88
        }
      ]
    },
    {
      "cell_type": "code",
      "source": [
        "my_list[:3]"
      ],
      "metadata": {
        "colab": {
          "base_uri": "https://localhost:8080/"
        },
        "id": "ggAAP5TZ3AxC",
        "outputId": "2c1056b3-1dfb-4625-eb1b-d5253637d95c"
      },
      "execution_count": 89,
      "outputs": [
        {
          "output_type": "execute_result",
          "data": {
            "text/plain": [
              "['one', 'two', 'three']"
            ]
          },
          "metadata": {},
          "execution_count": 89
        }
      ]
    },
    {
      "cell_type": "code",
      "source": [
        "my_list + ['new item']"
      ],
      "metadata": {
        "colab": {
          "base_uri": "https://localhost:8080/"
        },
        "id": "bnxH8K_g2dvZ",
        "outputId": "9ac00b1f-4b89-48e5-fa47-7bd621e7f705"
      },
      "execution_count": 90,
      "outputs": [
        {
          "output_type": "execute_result",
          "data": {
            "text/plain": [
              "['one', 'two', 'three', 4, 5, 'new item']"
            ]
          },
          "metadata": {},
          "execution_count": 90
        }
      ]
    },
    {
      "cell_type": "code",
      "source": [
        "my_list = my_list + ['add new item permanently']\n"
      ],
      "metadata": {
        "id": "QHqQVPeJ20Vk"
      },
      "execution_count": 91,
      "outputs": []
    },
    {
      "cell_type": "code",
      "source": [
        "my_list"
      ],
      "metadata": {
        "colab": {
          "base_uri": "https://localhost:8080/"
        },
        "id": "HShyKvf63QEp",
        "outputId": "00f11ad1-66ef-4403-fbeb-bed275171a10"
      },
      "execution_count": 92,
      "outputs": [
        {
          "output_type": "execute_result",
          "data": {
            "text/plain": [
              "['one', 'two', 'three', 4, 5, 'add new item permanently']"
            ]
          },
          "metadata": {},
          "execution_count": 92
        }
      ]
    },
    {
      "cell_type": "code",
      "source": [
        "my_list.append('something')"
      ],
      "metadata": {
        "id": "GbSzQ2lF3ce5"
      },
      "execution_count": 93,
      "outputs": []
    },
    {
      "cell_type": "code",
      "source": [
        "my_list"
      ],
      "metadata": {
        "colab": {
          "base_uri": "https://localhost:8080/"
        },
        "id": "xIdGHsq14Amf",
        "outputId": "85bbd445-2d79-4aed-8a15-ae476df27b43"
      },
      "execution_count": 94,
      "outputs": [
        {
          "output_type": "execute_result",
          "data": {
            "text/plain": [
              "['one', 'two', 'three', 4, 5, 'add new item permanently', 'something']"
            ]
          },
          "metadata": {},
          "execution_count": 94
        }
      ]
    },
    {
      "cell_type": "code",
      "source": [
        "#Make the lsit double\n",
        "my_list * 2"
      ],
      "metadata": {
        "colab": {
          "base_uri": "https://localhost:8080/"
        },
        "id": "FcVLoila4Bo6",
        "outputId": "e9934f1e-9fdd-49e4-a7ef-ea355553853c"
      },
      "execution_count": 95,
      "outputs": [
        {
          "output_type": "execute_result",
          "data": {
            "text/plain": [
              "['one',\n",
              " 'two',\n",
              " 'three',\n",
              " 4,\n",
              " 5,\n",
              " 'add new item permanently',\n",
              " 'something',\n",
              " 'one',\n",
              " 'two',\n",
              " 'three',\n",
              " 4,\n",
              " 5,\n",
              " 'add new item permanently',\n",
              " 'something']"
            ]
          },
          "metadata": {},
          "execution_count": 95
        }
      ]
    },
    {
      "cell_type": "markdown",
      "source": [
        "##Basic List Methods"
      ],
      "metadata": {
        "id": "kYzZZ1bO4Qzu"
      }
    },
    {
      "cell_type": "code",
      "source": [
        "l = [1,2,3]"
      ],
      "metadata": {
        "id": "GnnfRgSk5BSo"
      },
      "execution_count": 96,
      "outputs": []
    },
    {
      "cell_type": "code",
      "source": [
        "l.append('append me')"
      ],
      "metadata": {
        "id": "AQZx1jf55nD6"
      },
      "execution_count": 97,
      "outputs": []
    },
    {
      "cell_type": "code",
      "source": [
        "l\n"
      ],
      "metadata": {
        "colab": {
          "base_uri": "https://localhost:8080/"
        },
        "id": "xPET1t855r__",
        "outputId": "12a607d9-8b95-42bc-b8f4-9811b454d697"
      },
      "execution_count": 98,
      "outputs": [
        {
          "output_type": "execute_result",
          "data": {
            "text/plain": [
              "[1, 2, 3, 'append me']"
            ]
          },
          "metadata": {},
          "execution_count": 98
        }
      ]
    },
    {
      "cell_type": "code",
      "source": [
        "l.pop(0)"
      ],
      "metadata": {
        "colab": {
          "base_uri": "https://localhost:8080/"
        },
        "id": "ZBSdhOE95syf",
        "outputId": "13205433-e7dd-4b35-a725-ca0fce194e3e"
      },
      "execution_count": 99,
      "outputs": [
        {
          "output_type": "execute_result",
          "data": {
            "text/plain": [
              "1"
            ]
          },
          "metadata": {},
          "execution_count": 99
        }
      ]
    },
    {
      "cell_type": "code",
      "source": [
        "l"
      ],
      "metadata": {
        "colab": {
          "base_uri": "https://localhost:8080/"
        },
        "id": "qM8s9ttR5u8p",
        "outputId": "b646b693-e79a-45ad-8ea7-4206f6554e7c"
      },
      "execution_count": 100,
      "outputs": [
        {
          "output_type": "execute_result",
          "data": {
            "text/plain": [
              "[2, 3, 'append me']"
            ]
          },
          "metadata": {},
          "execution_count": 100
        }
      ]
    },
    {
      "cell_type": "code",
      "source": [
        "l.pop()\n"
      ],
      "metadata": {
        "colab": {
          "base_uri": "https://localhost:8080/",
          "height": 0
        },
        "id": "ExQbSc-h5x0R",
        "outputId": "9f0a92d6-d9e1-49fb-f304-f67ec7884bae"
      },
      "execution_count": 101,
      "outputs": [
        {
          "output_type": "execute_result",
          "data": {
            "application/vnd.google.colaboratory.intrinsic+json": {
              "type": "string"
            },
            "text/plain": [
              "'append me'"
            ]
          },
          "metadata": {},
          "execution_count": 101
        }
      ]
    },
    {
      "cell_type": "code",
      "source": [
        "l"
      ],
      "metadata": {
        "colab": {
          "base_uri": "https://localhost:8080/"
        },
        "id": "IF8yXpxC6i3c",
        "outputId": "8eaa24a8-98cf-42b3-e515-75fc73a16528"
      },
      "execution_count": 102,
      "outputs": [
        {
          "output_type": "execute_result",
          "data": {
            "text/plain": [
              "[2, 3]"
            ]
          },
          "metadata": {},
          "execution_count": 102
        }
      ]
    },
    {
      "cell_type": "markdown",
      "source": [
        "###The sort and reverse methods"
      ],
      "metadata": {
        "id": "NkwXleMa6kDR"
      }
    },
    {
      "cell_type": "code",
      "source": [
        "new_list = ['a','e','x', 'b', 'c']"
      ],
      "metadata": {
        "id": "t0xYe5tr6uyv"
      },
      "execution_count": 103,
      "outputs": []
    },
    {
      "cell_type": "code",
      "source": [
        "new_list.reverse()\n",
        "new_list"
      ],
      "metadata": {
        "colab": {
          "base_uri": "https://localhost:8080/"
        },
        "id": "LTbUH7cg63wx",
        "outputId": "70738641-423b-4bbd-f66b-9609e17f1feb"
      },
      "execution_count": 104,
      "outputs": [
        {
          "output_type": "execute_result",
          "data": {
            "text/plain": [
              "['c', 'b', 'x', 'e', 'a']"
            ]
          },
          "metadata": {},
          "execution_count": 104
        }
      ]
    },
    {
      "cell_type": "code",
      "source": [
        "new_list.sort()\n",
        "new_list"
      ],
      "metadata": {
        "colab": {
          "base_uri": "https://localhost:8080/"
        },
        "id": "SETYrCwQ66yD",
        "outputId": "58801b51-3acc-4671-e22d-2f4cfb922849"
      },
      "execution_count": 105,
      "outputs": [
        {
          "output_type": "execute_result",
          "data": {
            "text/plain": [
              "['a', 'b', 'c', 'e', 'x']"
            ]
          },
          "metadata": {},
          "execution_count": 105
        }
      ]
    },
    {
      "cell_type": "code",
      "source": [
        "nlist = ['a', 'x', 't', str(12), str(55)]\n",
        "nlist.sort()\n",
        "nlist"
      ],
      "metadata": {
        "colab": {
          "base_uri": "https://localhost:8080/"
        },
        "id": "pnccox687Y_y",
        "outputId": "8f79bc2e-385f-42d4-ca86-9e6195461e1b"
      },
      "execution_count": 106,
      "outputs": [
        {
          "output_type": "execute_result",
          "data": {
            "text/plain": [
              "['12', '55', 'a', 't', 'x']"
            ]
          },
          "metadata": {},
          "execution_count": 106
        }
      ]
    },
    {
      "cell_type": "markdown",
      "source": [
        "##Dictionaries"
      ],
      "metadata": {
        "id": "2OMn0XlQ7qtM"
      }
    },
    {
      "cell_type": "code",
      "source": [
        "my_dict = {'key1':'value', 'key2':'value2'}"
      ],
      "metadata": {
        "id": "Q7IcUIxu90fF"
      },
      "execution_count": 107,
      "outputs": []
    },
    {
      "cell_type": "code",
      "source": [
        "my_dict['key2']"
      ],
      "metadata": {
        "colab": {
          "base_uri": "https://localhost:8080/",
          "height": 0
        },
        "id": "LJ2KFeA89_pt",
        "outputId": "058f7b94-b898-4016-de56-19d47a394fff"
      },
      "execution_count": 108,
      "outputs": [
        {
          "output_type": "execute_result",
          "data": {
            "application/vnd.google.colaboratory.intrinsic+json": {
              "type": "string"
            },
            "text/plain": [
              "'value2'"
            ]
          },
          "metadata": {},
          "execution_count": 108
        }
      ]
    },
    {
      "cell_type": "code",
      "source": [
        "my_dict = {'key1': 123, 'key2': [12, 23, 33], 'key3':['item0', 'item1', 'item2']}"
      ],
      "metadata": {
        "id": "q6uVrDsB-CCJ"
      },
      "execution_count": 109,
      "outputs": []
    },
    {
      "cell_type": "code",
      "source": [
        "my_dict['key3']"
      ],
      "metadata": {
        "colab": {
          "base_uri": "https://localhost:8080/"
        },
        "id": "m43JNlKy-ZXi",
        "outputId": "bdf9a280-9ae4-40c4-eff8-164ec366d517"
      },
      "execution_count": 110,
      "outputs": [
        {
          "output_type": "execute_result",
          "data": {
            "text/plain": [
              "['item0', 'item1', 'item2']"
            ]
          },
          "metadata": {},
          "execution_count": 110
        }
      ]
    },
    {
      "cell_type": "code",
      "source": [
        "my_dict['key3'][0]"
      ],
      "metadata": {
        "colab": {
          "base_uri": "https://localhost:8080/",
          "height": 0
        },
        "id": "S1tkHbYv-d_B",
        "outputId": "32a5148b-356c-4ec9-811f-7008a229184a"
      },
      "execution_count": 111,
      "outputs": [
        {
          "output_type": "execute_result",
          "data": {
            "application/vnd.google.colaboratory.intrinsic+json": {
              "type": "string"
            },
            "text/plain": [
              "'item0'"
            ]
          },
          "metadata": {},
          "execution_count": 111
        }
      ]
    },
    {
      "cell_type": "code",
      "source": [
        "my_dict['key3'][0].upper()"
      ],
      "metadata": {
        "colab": {
          "base_uri": "https://localhost:8080/",
          "height": 0
        },
        "id": "L4zTxSXQ-jnE",
        "outputId": "68693ec8-3ddd-433d-a0ff-6f23bb8595d1"
      },
      "execution_count": 112,
      "outputs": [
        {
          "output_type": "execute_result",
          "data": {
            "application/vnd.google.colaboratory.intrinsic+json": {
              "type": "string"
            },
            "text/plain": [
              "'ITEM0'"
            ]
          },
          "metadata": {},
          "execution_count": 112
        }
      ]
    },
    {
      "cell_type": "code",
      "source": [
        "my_dict['key1']"
      ],
      "metadata": {
        "colab": {
          "base_uri": "https://localhost:8080/"
        },
        "id": "1eED-FPR-osU",
        "outputId": "9e36f02b-9400-4070-caad-c1569aa2eecf"
      },
      "execution_count": 113,
      "outputs": [
        {
          "output_type": "execute_result",
          "data": {
            "text/plain": [
              "123"
            ]
          },
          "metadata": {},
          "execution_count": 113
        }
      ]
    },
    {
      "cell_type": "code",
      "source": [
        "my_dict['key1'] = my_dict['key1'] - 123"
      ],
      "metadata": {
        "id": "01E7CKdv_HaU"
      },
      "execution_count": 114,
      "outputs": []
    },
    {
      "cell_type": "code",
      "source": [
        "d = {}"
      ],
      "metadata": {
        "id": "5nJFZ_Zs_Y1S"
      },
      "execution_count": 115,
      "outputs": []
    },
    {
      "cell_type": "code",
      "source": [
        "d['animal'] = 'Dog'"
      ],
      "metadata": {
        "id": "Si-kODZj_qhs"
      },
      "execution_count": 116,
      "outputs": []
    },
    {
      "cell_type": "code",
      "source": [
        "d['answer'] = 42\n"
      ],
      "metadata": {
        "id": "2WHoPCMn_uCE"
      },
      "execution_count": 117,
      "outputs": []
    },
    {
      "cell_type": "code",
      "source": [
        "d"
      ],
      "metadata": {
        "colab": {
          "base_uri": "https://localhost:8080/"
        },
        "id": "Hn4a__Pc_xOU",
        "outputId": "bbe5be6d-7adb-42fa-c70e-1e1ac9404c51"
      },
      "execution_count": 118,
      "outputs": [
        {
          "output_type": "execute_result",
          "data": {
            "text/plain": [
              "{'animal': 'Dog', 'answer': 42}"
            ]
          },
          "metadata": {},
          "execution_count": 118
        }
      ]
    },
    {
      "cell_type": "markdown",
      "source": [
        "##Dictionary Methods"
      ],
      "metadata": {
        "id": "y52snvq5_xs5"
      }
    },
    {
      "cell_type": "code",
      "source": [
        "d = {'key1': 1, 'key2': 2, 'key3':3}"
      ],
      "metadata": {
        "id": "94mS5uzz_113"
      },
      "execution_count": 119,
      "outputs": []
    },
    {
      "cell_type": "code",
      "source": [
        "d.keys()"
      ],
      "metadata": {
        "colab": {
          "base_uri": "https://localhost:8080/"
        },
        "id": "USrLMJe_ACWM",
        "outputId": "72e3b432-8464-40f7-be03-6c13fbdfb4d5"
      },
      "execution_count": 120,
      "outputs": [
        {
          "output_type": "execute_result",
          "data": {
            "text/plain": [
              "dict_keys(['key1', 'key2', 'key3'])"
            ]
          },
          "metadata": {},
          "execution_count": 120
        }
      ]
    },
    {
      "cell_type": "code",
      "source": [
        "d.values()"
      ],
      "metadata": {
        "colab": {
          "base_uri": "https://localhost:8080/"
        },
        "id": "IolghQpTADii",
        "outputId": "ecd6aaec-e11d-4e1f-e40b-8fe46caa2109"
      },
      "execution_count": 121,
      "outputs": [
        {
          "output_type": "execute_result",
          "data": {
            "text/plain": [
              "dict_values([1, 2, 3])"
            ]
          },
          "metadata": {},
          "execution_count": 121
        }
      ]
    },
    {
      "cell_type": "code",
      "source": [
        "d.items()\n"
      ],
      "metadata": {
        "colab": {
          "base_uri": "https://localhost:8080/"
        },
        "id": "iP6UUoqAAFT4",
        "outputId": "062318b2-c4b1-4e13-b88c-a20f4cc96584"
      },
      "execution_count": 122,
      "outputs": [
        {
          "output_type": "execute_result",
          "data": {
            "text/plain": [
              "dict_items([('key1', 1), ('key2', 2), ('key3', 3)])"
            ]
          },
          "metadata": {},
          "execution_count": 122
        }
      ]
    },
    {
      "cell_type": "markdown",
      "source": [
        "##Tuples"
      ],
      "metadata": {
        "id": "0Rj6BZ7qALQw"
      }
    },
    {
      "cell_type": "code",
      "source": [
        "t = (1,2,3)"
      ],
      "metadata": {
        "id": "MnqmCKtnOXyD"
      },
      "execution_count": 123,
      "outputs": []
    },
    {
      "cell_type": "code",
      "source": [
        "len(t)"
      ],
      "metadata": {
        "colab": {
          "base_uri": "https://localhost:8080/"
        },
        "id": "rqQTffDUOyTK",
        "outputId": "6ac3f91c-adfc-44d3-b0cd-cec485c09944"
      },
      "execution_count": 124,
      "outputs": [
        {
          "output_type": "execute_result",
          "data": {
            "text/plain": [
              "3"
            ]
          },
          "metadata": {},
          "execution_count": 124
        }
      ]
    },
    {
      "cell_type": "code",
      "source": [
        "t = ('one', 2, 2)\n",
        "t"
      ],
      "metadata": {
        "colab": {
          "base_uri": "https://localhost:8080/"
        },
        "id": "eYSCOqDnOzcI",
        "outputId": "6f92a96e-e69d-416e-d4b8-ac635037198f"
      },
      "execution_count": 125,
      "outputs": [
        {
          "output_type": "execute_result",
          "data": {
            "text/plain": [
              "('one', 2, 2)"
            ]
          },
          "metadata": {},
          "execution_count": 125
        }
      ]
    },
    {
      "cell_type": "code",
      "source": [
        "t[0]"
      ],
      "metadata": {
        "colab": {
          "base_uri": "https://localhost:8080/",
          "height": 35
        },
        "id": "Y8TUS7hRPQci",
        "outputId": "5cd9bd71-1778-4b6e-f1c9-8c8d4ca5ba2f"
      },
      "execution_count": 126,
      "outputs": [
        {
          "output_type": "execute_result",
          "data": {
            "application/vnd.google.colaboratory.intrinsic+json": {
              "type": "string"
            },
            "text/plain": [
              "'one'"
            ]
          },
          "metadata": {},
          "execution_count": 126
        }
      ]
    },
    {
      "cell_type": "code",
      "source": [
        "t[-1]"
      ],
      "metadata": {
        "colab": {
          "base_uri": "https://localhost:8080/"
        },
        "id": "yAdWlbFsPSqi",
        "outputId": "dff41e8f-6c29-40b5-b350-5e2827118eb3"
      },
      "execution_count": 127,
      "outputs": [
        {
          "output_type": "execute_result",
          "data": {
            "text/plain": [
              "2"
            ]
          },
          "metadata": {},
          "execution_count": 127
        }
      ]
    },
    {
      "cell_type": "code",
      "source": [
        "t.index('one')"
      ],
      "metadata": {
        "colab": {
          "base_uri": "https://localhost:8080/"
        },
        "id": "8hzM2FH5PUvs",
        "outputId": "44f6a341-b404-414b-9632-70114004277e"
      },
      "execution_count": 128,
      "outputs": [
        {
          "output_type": "execute_result",
          "data": {
            "text/plain": [
              "0"
            ]
          },
          "metadata": {},
          "execution_count": 128
        }
      ]
    },
    {
      "cell_type": "code",
      "source": [
        "t.count('one')"
      ],
      "metadata": {
        "colab": {
          "base_uri": "https://localhost:8080/"
        },
        "id": "jHISMVJpPg5J",
        "outputId": "2441b6f3-8908-4432-dea6-b2d7ae9158bf"
      },
      "execution_count": 129,
      "outputs": [
        {
          "output_type": "execute_result",
          "data": {
            "text/plain": [
              "1"
            ]
          },
          "metadata": {},
          "execution_count": 129
        }
      ]
    },
    {
      "cell_type": "code",
      "source": [
        "t.count(2)"
      ],
      "metadata": {
        "colab": {
          "base_uri": "https://localhost:8080/"
        },
        "id": "FNDJRtZTPnz5",
        "outputId": "737e1101-11bb-401b-e68d-1207d9dd2307"
      },
      "execution_count": 130,
      "outputs": [
        {
          "output_type": "execute_result",
          "data": {
            "text/plain": [
              "2"
            ]
          },
          "metadata": {},
          "execution_count": 130
        }
      ]
    },
    {
      "cell_type": "markdown",
      "source": [
        "##Immutability"
      ],
      "metadata": {
        "id": "S5DLpTvSPtZZ"
      }
    },
    {
      "cell_type": "code",
      "source": [
        "# t[0] = 'change'"
      ],
      "metadata": {
        "id": "Rlw_Y2cQP72x"
      },
      "execution_count": 134,
      "outputs": []
    },
    {
      "cell_type": "code",
      "source": [
        "#t.append('nope')"
      ],
      "metadata": {
        "id": "uY0MEjiEP_s-"
      },
      "execution_count": 133,
      "outputs": []
    },
    {
      "cell_type": "code",
      "source": [
        ""
      ],
      "metadata": {
        "id": "acz6_1fBQM5M"
      },
      "execution_count": null,
      "outputs": []
    }
  ]
}